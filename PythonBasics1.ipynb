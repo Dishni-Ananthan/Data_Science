{
 "cells": [
  {
   "cell_type": "markdown",
   "id": "7c6ce776-a892-4ba6-9014-5f0768871e61",
   "metadata": {},
   "source": [
    "# Python Basics\n",
    "#Variables\n",
    "#Slicing\n",
    "#TypeCasting\n",
    "#Operators"
   ]
  },
  {
   "cell_type": "markdown",
   "id": "f622b6fb-2ea0-484a-9c0d-1a4c0142709c",
   "metadata": {},
   "source": [
    "# Variable \n",
    " #Name or identifier to define something. IT store values to be used in the programing\n",
    "#Rules \n",
    "#1. Always use characters\n",
    "#2. Start with an string/underscore not with numbers\n",
    "#3.No Space should be there between characters or literals\n",
    "#4. Case Sensitive "
   ]
  },
  {
   "cell_type": "code",
   "execution_count": 11,
   "id": "91f7c416-828e-4d9d-8f6a-96c8af6a99af",
   "metadata": {},
   "outputs": [
    {
     "ename": "SyntaxError",
     "evalue": "invalid syntax (3061551425.py, line 7)",
     "output_type": "error",
     "traceback": [
      "\u001b[1;36m  Cell \u001b[1;32mIn[11], line 7\u001b[1;36m\u001b[0m\n\u001b[1;33m    ca$sh=10\u001b[0m\n\u001b[1;37m      ^\u001b[0m\n\u001b[1;31mSyntaxError\u001b[0m\u001b[1;31m:\u001b[0m invalid syntax\n"
     ]
    }
   ],
   "source": [
    "# Variable \n",
    " # Name or identifier to define something. IT store values to be used in the programing\n",
    "#Rules \n",
    "#1. Always use characters\n",
    "cash=10\n",
    "cash\n",
    "ca$sh=10\n",
    "ca$sh #SyntaxError: invalid syntax"
   ]
  },
  {
   "cell_type": "code",
   "execution_count": 12,
   "id": "d8a25dba-571b-4a1f-b02b-44a0c8fe9742",
   "metadata": {},
   "outputs": [
    {
     "ename": "SyntaxError",
     "evalue": "invalid decimal literal (234599310.py, line 2)",
     "output_type": "error",
     "traceback": [
      "\u001b[1;36m  Cell \u001b[1;32mIn[12], line 2\u001b[1;36m\u001b[0m\n\u001b[1;33m    123cash=100\u001b[0m\n\u001b[1;37m      ^\u001b[0m\n\u001b[1;31mSyntaxError\u001b[0m\u001b[1;31m:\u001b[0m invalid decimal literal\n"
     ]
    }
   ],
   "source": [
    "#2. Start with an string/underscore not with numbers\n",
    "123cash=100\n",
    "123cash #SyntaxError: invalid decimal literal\n",
    "_mycash=10\n",
    "_mycash"
   ]
  },
  {
   "cell_type": "code",
   "execution_count": 13,
   "id": "29baaed0-dba1-4b7d-b567-35e148025349",
   "metadata": {},
   "outputs": [
    {
     "ename": "SyntaxError",
     "evalue": "invalid syntax (1651724961.py, line 2)",
     "output_type": "error",
     "traceback": [
      "\u001b[1;36m  Cell \u001b[1;32mIn[13], line 2\u001b[1;36m\u001b[0m\n\u001b[1;33m    my cash =100\u001b[0m\n\u001b[1;37m       ^\u001b[0m\n\u001b[1;31mSyntaxError\u001b[0m\u001b[1;31m:\u001b[0m invalid syntax\n"
     ]
    }
   ],
   "source": [
    "#3.No Space should be there between characters or literals\n",
    "my cash =100\n",
    "my cash #SyntaxError: invalid syntax"
   ]
  },
  {
   "cell_type": "code",
   "execution_count": 14,
   "id": "8bca6c79-327d-48ce-be08-96cb37d7ec68",
   "metadata": {},
   "outputs": [
    {
     "ename": "NameError",
     "evalue": "name 'Mycash' is not defined",
     "output_type": "error",
     "traceback": [
      "\u001b[1;31m---------------------------------------------------------------------------\u001b[0m",
      "\u001b[1;31mNameError\u001b[0m                                 Traceback (most recent call last)",
      "Cell \u001b[1;32mIn[14], line 3\u001b[0m\n\u001b[0;32m      1\u001b[0m \u001b[38;5;66;03m#4. Case Sensitive \u001b[39;00m\n\u001b[0;32m      2\u001b[0m mycash\u001b[38;5;241m=\u001b[39m\u001b[38;5;241m100\u001b[39m\n\u001b[1;32m----> 3\u001b[0m \u001b[38;5;28mprint\u001b[39m(Mycash)\n",
      "\u001b[1;31mNameError\u001b[0m: name 'Mycash' is not defined"
     ]
    }
   ],
   "source": [
    "#4. Case Sensitive \n",
    "mycash=100\n",
    "print(Mycash) #NameError: name 'Mycash' is not defined"
   ]
  },
  {
   "cell_type": "markdown",
   "id": "fd6be123-eaab-42b6-9066-075655944ea3",
   "metadata": {},
   "source": [
    "# Keyword\n",
    "#Fixed word with special meaning in Python. cannot be redefined and used as a variable \n",
    "#Eg. True,False,if,else,for,..."
   ]
  },
  {
   "cell_type": "code",
   "execution_count": 20,
   "id": "c56bb3c8-0d30-4ae4-9a7d-dfaf35e4a6f7",
   "metadata": {},
   "outputs": [
    {
     "ename": "SyntaxError",
     "evalue": "cannot assign to True (443748856.py, line 1)",
     "output_type": "error",
     "traceback": [
      "\u001b[1;36m  Cell \u001b[1;32mIn[20], line 1\u001b[1;36m\u001b[0m\n\u001b[1;33m    True=1\u001b[0m\n\u001b[1;37m    ^\u001b[0m\n\u001b[1;31mSyntaxError\u001b[0m\u001b[1;31m:\u001b[0m cannot assign to True\n"
     ]
    }
   ],
   "source": [
    "if=1,2,3,4,5\n",
    "if #SyntaxError: invalid syntax\n",
    "\n",
    "True=1\n",
    "True #SyntaxError: cannot assign to True\n",
    "\n"
   ]
  },
  {
   "cell_type": "markdown",
   "id": "31fa2ee7-32d3-4935-b8c0-b6dcdd23e2c8",
   "metadata": {},
   "source": [
    "# Data Types\n",
    "#Numeric\n",
    " #int\n",
    " #float\n",
    " #complex number\n",
    "#Sequence Type\n",
    " #String\n",
    " #List\n",
    " #Tuple\n",
    "#Dictionary\n",
    "#Set\n",
    "#Boolean"
   ]
  },
  {
   "cell_type": "code",
   "execution_count": 21,
   "id": "0750a9d9-c23d-4fc9-899b-7007815762e8",
   "metadata": {},
   "outputs": [
    {
     "name": "stdout",
     "output_type": "stream",
     "text": [
      "Type of a:  <class 'int'>\n",
      "Type of b:  <class 'str'>\n",
      "Type of c:  <class 'float'>\n",
      "Type of d:  <class 'bool'>\n"
     ]
    }
   ],
   "source": [
    "a=10\n",
    "print('Type of a: ',type(a))\n",
    "b='apple'\n",
    "print('Type of b: ',type(b))\n",
    "c=12.5\n",
    "print('Type of c: ',type(c))\n",
    "d=True\n",
    "print('Type of d: ',type(d))"
   ]
  },
  {
   "cell_type": "code",
   "execution_count": 24,
   "id": "23a8928c-b883-451f-9876-7f4c9e8d2872",
   "metadata": {},
   "outputs": [
    {
     "ename": "TypeError",
     "evalue": "unsupported operand type(s) for +: 'int' and 'str'",
     "output_type": "error",
     "traceback": [
      "\u001b[1;31m---------------------------------------------------------------------------\u001b[0m",
      "\u001b[1;31mTypeError\u001b[0m                                 Traceback (most recent call last)",
      "Cell \u001b[1;32mIn[24], line 1\u001b[0m\n\u001b[1;32m----> 1\u001b[0m \u001b[38;5;241m10\u001b[39m\u001b[38;5;241m+\u001b[39m\u001b[38;5;28;01mTrue\u001b[39;00m\u001b[38;5;241m+\u001b[39m\u001b[38;5;124m'\u001b[39m\u001b[38;5;124mapple\u001b[39m\u001b[38;5;124m'\u001b[39m\u001b[38;5;241m+\u001b[39m\u001b[38;5;241m12.3\u001b[39m\n",
      "\u001b[1;31mTypeError\u001b[0m: unsupported operand type(s) for +: 'int' and 'str'"
     ]
    }
   ],
   "source": [
    "10+True+'apple'+12.3 #TypeError: unsupported operand type(s) for +: 'int' and 'str'"
   ]
  },
  {
   "cell_type": "code",
   "execution_count": 25,
   "id": "3b23e182-faa9-4b2a-81e3-6216cd1d915a",
   "metadata": {},
   "outputs": [
    {
     "data": {
      "text/plain": [
       "23.3"
      ]
     },
     "execution_count": 25,
     "metadata": {},
     "output_type": "execute_result"
    }
   ],
   "source": [
    "10+True+12.3"
   ]
  },
  {
   "cell_type": "code",
   "execution_count": 28,
   "id": "53071dbc-5acb-4715-8581-22fc363c62fc",
   "metadata": {},
   "outputs": [
    {
     "ename": "ValueError",
     "evalue": "invalid literal for int() with base 10: 'a'",
     "output_type": "error",
     "traceback": [
      "\u001b[1;31m---------------------------------------------------------------------------\u001b[0m",
      "\u001b[1;31mValueError\u001b[0m                                Traceback (most recent call last)",
      "Cell \u001b[1;32mIn[28], line 4\u001b[0m\n\u001b[0;32m      1\u001b[0m \u001b[38;5;66;03m# Type Casting\u001b[39;00m\n\u001b[0;32m      2\u001b[0m \u001b[38;5;66;03m#Converting one data type into another\u001b[39;00m\n\u001b[0;32m      3\u001b[0m a\u001b[38;5;241m=\u001b[39m\u001b[38;5;124m'\u001b[39m\u001b[38;5;124ma\u001b[39m\u001b[38;5;124m'\u001b[39m\n\u001b[1;32m----> 4\u001b[0m a\u001b[38;5;241m=\u001b[39m\u001b[38;5;28mint\u001b[39m(a)\n\u001b[0;32m      5\u001b[0m \u001b[38;5;28mprint\u001b[39m(\u001b[38;5;124m'\u001b[39m\u001b[38;5;124ma is :\u001b[39m\u001b[38;5;124m'\u001b[39m,a,\u001b[38;5;124m'\u001b[39m\u001b[38;5;124m Type of a is :\u001b[39m\u001b[38;5;124m'\u001b[39m, \u001b[38;5;28mtype\u001b[39m(a),\u001b[38;5;124m'\u001b[39m\u001b[38;5;124m After Type Casting : \u001b[39m\u001b[38;5;124m'\u001b[39m,\u001b[38;5;28mtype\u001b[39m(A))\n",
      "\u001b[1;31mValueError\u001b[0m: invalid literal for int() with base 10: 'a'"
     ]
    }
   ],
   "source": [
    "# Type Casting\n",
    "#Converting one data type into another\n",
    "a='app'\n",
    "a=int(a) #ValueError: invalid literal for int() with base 10: 'a'\n",
    "#The int() function expects a string that looks like a number "
   ]
  },
  {
   "cell_type": "code",
   "execution_count": 32,
   "id": "07100a4c-f69f-423b-81f5-b7c96c6eb99d",
   "metadata": {},
   "outputs": [
    {
     "name": "stdout",
     "output_type": "stream",
     "text": [
      "a is : 123  Type of a is : <class 'str'>  After Type Casting a to A:  <class 'int'>\n",
      "b is : 10  Type of b is : <class 'int'>  After Type Casting b to B :  <class 'str'>\n"
     ]
    }
   ],
   "source": [
    "a='123'\n",
    "A=int(a)\n",
    "print('a is :',a,' Type of a is :', type(a),' After Type Casting a to A: ',type(A))\n",
    "b=10\n",
    "B=str(b)\n",
    "print('b is :',b,' Type of b is :', type(b),' After Type Casting b to B : ',type(B))"
   ]
  },
  {
   "cell_type": "markdown",
   "id": "bdacb673-700e-4738-8f1d-c4fe7bc5fcd7",
   "metadata": {},
   "source": [
    "# Slicing\n",
    "#[Start:Stop:Step]\n",
    "#[0:4:1]"
   ]
  },
  {
   "cell_type": "code",
   "execution_count": 40,
   "id": "8096e6b3-f91d-484b-ad54-a7b937647ff8",
   "metadata": {},
   "outputs": [
    {
     "name": "stdout",
     "output_type": "stream",
     "text": [
      "E\n",
      "Emer\n",
      "ra\n",
      "Emera\n",
      "mr\n",
      "dlaremE\n",
      "Emerald\n",
      "\n",
      "Emeral\n",
      "\n",
      "Emeral\n"
     ]
    }
   ],
   "source": [
    "word='Emerald'\n",
    "print(word[0])\n",
    "print(word[0:4])\n",
    "print(word[3:5])\n",
    "print(word[:5])\n",
    "print(word[1:5:2])\n",
    "print(word[::-1])\n",
    "print(word[-7:])\n",
    "print(word[-7:0]) #not printing anything as the stop is 0.stop should be always greater than start\n",
    "print(word[-7:-1])\n",
    "print(word[-7:-1:-1]) #not printing anything\n",
    "print(word[-7:-1:1])"
   ]
  },
  {
   "cell_type": "markdown",
   "id": "651cb78f-560d-4379-a688-be25392abf0c",
   "metadata": {},
   "source": [
    "# Operators \n",
    "#Arithematic :- +,-,/,* ,%,**,//\n",
    "#Comparison :- ==,>=,<=,<,>,!=\n",
    "#Logical Operator := And(&),OR(|) ,Not(!)\n",
    "#Assignment:- =,+="
   ]
  },
  {
   "cell_type": "code",
   "execution_count": 45,
   "id": "9ce15ca8-dfd3-43b1-87c7-0cafe05c4fb1",
   "metadata": {},
   "outputs": [
    {
     "name": "stdout",
     "output_type": "stream",
     "text": [
      "************Arithematic Operator***************\n",
      "13\n",
      "7\n",
      "30\n",
      "3.3333333333333335\n",
      "1\n",
      "3\n",
      "************Comparison Operator***************\n",
      "False\n",
      "True\n",
      "False\n",
      "True\n",
      "************Logical Operator***************\n",
      "True\n",
      "False\n",
      "True\n",
      "************Assignment Operator***************\n",
      "10\n",
      "14\n"
     ]
    }
   ],
   "source": [
    "x=10\n",
    "y=3\n",
    "print('************Arithematic Operator***************')\n",
    "print(x+y)\n",
    "print(x-y)\n",
    "print(x*y)\n",
    "print(x/y)\n",
    "print(x%y)\n",
    "print(x//y)\n",
    "      \n",
    "print('************Comparison Operator***************')\n",
    "print(x==y)\n",
    "print(x>=y)\n",
    "print(x<=y)\n",
    "print(x!=y)\n",
    "      \n",
    "print('************Logical Operator***************')\n",
    "print(x>0 and y>0)\n",
    "print(x<15 and y<0)\n",
    "print(x>=10 or y<=5)\n",
    "      \n",
    "print('************Assignment Operator***************')\n",
    "a=10\n",
    "print(a)\n",
    "a+=4\n",
    "print(a)"
   ]
  },
  {
   "cell_type": "code",
   "execution_count": null,
   "id": "39d1feb7-7515-4371-a5ee-1a01af2541aa",
   "metadata": {},
   "outputs": [],
   "source": []
  }
 ],
 "metadata": {
  "kernelspec": {
   "display_name": "Python [conda env:base] *",
   "language": "python",
   "name": "conda-base-py"
  },
  "language_info": {
   "codemirror_mode": {
    "name": "ipython",
    "version": 3
   },
   "file_extension": ".py",
   "mimetype": "text/x-python",
   "name": "python",
   "nbconvert_exporter": "python",
   "pygments_lexer": "ipython3",
   "version": "3.13.5"
  }
 },
 "nbformat": 4,
 "nbformat_minor": 5
}
